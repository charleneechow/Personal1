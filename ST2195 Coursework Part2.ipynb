{
 "cells": [
  {
   "cell_type": "code",
   "execution_count": 5,
   "id": "5197c005",
   "metadata": {},
   "outputs": [
    {
     "name": "stdout",
     "output_type": "stream",
     "text": [
      "Reading Data\n"
     ]
    },
    {
     "ename": "FileNotFoundError",
     "evalue": "[Errno 2] No such file or directory: 'dataverse_files/1995.csv.bz2'",
     "output_type": "error",
     "traceback": [
      "\u001b[0;31m---------------------------------------------------------------------------\u001b[0m",
      "\u001b[0;31mFileNotFoundError\u001b[0m                         Traceback (most recent call last)",
      "Cell \u001b[0;32mIn[5], line 5\u001b[0m\n\u001b[1;32m      3\u001b[0m \u001b[38;5;66;03m# Read the CSV file\u001b[39;00m\n\u001b[1;32m      4\u001b[0m \u001b[38;5;28mprint\u001b[39m(\u001b[38;5;124m\"\u001b[39m\u001b[38;5;124mReading Data\u001b[39m\u001b[38;5;124m\"\u001b[39m)\n\u001b[0;32m----> 5\u001b[0m data \u001b[38;5;241m=\u001b[39m pd\u001b[38;5;241m.\u001b[39mread_csv(\u001b[38;5;124m\"\u001b[39m\u001b[38;5;124mdataverse_files/1995.csv.bz2\u001b[39m\u001b[38;5;124m\"\u001b[39m)\n\u001b[1;32m      7\u001b[0m \u001b[38;5;66;03m# Display the first few rows\u001b[39;00m\n\u001b[1;32m      8\u001b[0m \u001b[38;5;28mprint\u001b[39m(data\u001b[38;5;241m.\u001b[39mhead())\n",
      "File \u001b[0;32m~/anaconda3/lib/python3.11/site-packages/pandas/util/_decorators.py:211\u001b[0m, in \u001b[0;36mdeprecate_kwarg.<locals>._deprecate_kwarg.<locals>.wrapper\u001b[0;34m(*args, **kwargs)\u001b[0m\n\u001b[1;32m    209\u001b[0m     \u001b[38;5;28;01melse\u001b[39;00m:\n\u001b[1;32m    210\u001b[0m         kwargs[new_arg_name] \u001b[38;5;241m=\u001b[39m new_arg_value\n\u001b[0;32m--> 211\u001b[0m \u001b[38;5;28;01mreturn\u001b[39;00m func(\u001b[38;5;241m*\u001b[39margs, \u001b[38;5;241m*\u001b[39m\u001b[38;5;241m*\u001b[39mkwargs)\n",
      "File \u001b[0;32m~/anaconda3/lib/python3.11/site-packages/pandas/util/_decorators.py:331\u001b[0m, in \u001b[0;36mdeprecate_nonkeyword_arguments.<locals>.decorate.<locals>.wrapper\u001b[0;34m(*args, **kwargs)\u001b[0m\n\u001b[1;32m    325\u001b[0m \u001b[38;5;28;01mif\u001b[39;00m \u001b[38;5;28mlen\u001b[39m(args) \u001b[38;5;241m>\u001b[39m num_allow_args:\n\u001b[1;32m    326\u001b[0m     warnings\u001b[38;5;241m.\u001b[39mwarn(\n\u001b[1;32m    327\u001b[0m         msg\u001b[38;5;241m.\u001b[39mformat(arguments\u001b[38;5;241m=\u001b[39m_format_argument_list(allow_args)),\n\u001b[1;32m    328\u001b[0m         \u001b[38;5;167;01mFutureWarning\u001b[39;00m,\n\u001b[1;32m    329\u001b[0m         stacklevel\u001b[38;5;241m=\u001b[39mfind_stack_level(),\n\u001b[1;32m    330\u001b[0m     )\n\u001b[0;32m--> 331\u001b[0m \u001b[38;5;28;01mreturn\u001b[39;00m func(\u001b[38;5;241m*\u001b[39margs, \u001b[38;5;241m*\u001b[39m\u001b[38;5;241m*\u001b[39mkwargs)\n",
      "File \u001b[0;32m~/anaconda3/lib/python3.11/site-packages/pandas/io/parsers/readers.py:950\u001b[0m, in \u001b[0;36mread_csv\u001b[0;34m(filepath_or_buffer, sep, delimiter, header, names, index_col, usecols, squeeze, prefix, mangle_dupe_cols, dtype, engine, converters, true_values, false_values, skipinitialspace, skiprows, skipfooter, nrows, na_values, keep_default_na, na_filter, verbose, skip_blank_lines, parse_dates, infer_datetime_format, keep_date_col, date_parser, dayfirst, cache_dates, iterator, chunksize, compression, thousands, decimal, lineterminator, quotechar, quoting, doublequote, escapechar, comment, encoding, encoding_errors, dialect, error_bad_lines, warn_bad_lines, on_bad_lines, delim_whitespace, low_memory, memory_map, float_precision, storage_options)\u001b[0m\n\u001b[1;32m    935\u001b[0m kwds_defaults \u001b[38;5;241m=\u001b[39m _refine_defaults_read(\n\u001b[1;32m    936\u001b[0m     dialect,\n\u001b[1;32m    937\u001b[0m     delimiter,\n\u001b[0;32m   (...)\u001b[0m\n\u001b[1;32m    946\u001b[0m     defaults\u001b[38;5;241m=\u001b[39m{\u001b[38;5;124m\"\u001b[39m\u001b[38;5;124mdelimiter\u001b[39m\u001b[38;5;124m\"\u001b[39m: \u001b[38;5;124m\"\u001b[39m\u001b[38;5;124m,\u001b[39m\u001b[38;5;124m\"\u001b[39m},\n\u001b[1;32m    947\u001b[0m )\n\u001b[1;32m    948\u001b[0m kwds\u001b[38;5;241m.\u001b[39mupdate(kwds_defaults)\n\u001b[0;32m--> 950\u001b[0m \u001b[38;5;28;01mreturn\u001b[39;00m _read(filepath_or_buffer, kwds)\n",
      "File \u001b[0;32m~/anaconda3/lib/python3.11/site-packages/pandas/io/parsers/readers.py:605\u001b[0m, in \u001b[0;36m_read\u001b[0;34m(filepath_or_buffer, kwds)\u001b[0m\n\u001b[1;32m    602\u001b[0m _validate_names(kwds\u001b[38;5;241m.\u001b[39mget(\u001b[38;5;124m\"\u001b[39m\u001b[38;5;124mnames\u001b[39m\u001b[38;5;124m\"\u001b[39m, \u001b[38;5;28;01mNone\u001b[39;00m))\n\u001b[1;32m    604\u001b[0m \u001b[38;5;66;03m# Create the parser.\u001b[39;00m\n\u001b[0;32m--> 605\u001b[0m parser \u001b[38;5;241m=\u001b[39m TextFileReader(filepath_or_buffer, \u001b[38;5;241m*\u001b[39m\u001b[38;5;241m*\u001b[39mkwds)\n\u001b[1;32m    607\u001b[0m \u001b[38;5;28;01mif\u001b[39;00m chunksize \u001b[38;5;129;01mor\u001b[39;00m iterator:\n\u001b[1;32m    608\u001b[0m     \u001b[38;5;28;01mreturn\u001b[39;00m parser\n",
      "File \u001b[0;32m~/anaconda3/lib/python3.11/site-packages/pandas/io/parsers/readers.py:1442\u001b[0m, in \u001b[0;36mTextFileReader.__init__\u001b[0;34m(self, f, engine, **kwds)\u001b[0m\n\u001b[1;32m   1439\u001b[0m     \u001b[38;5;28mself\u001b[39m\u001b[38;5;241m.\u001b[39moptions[\u001b[38;5;124m\"\u001b[39m\u001b[38;5;124mhas_index_names\u001b[39m\u001b[38;5;124m\"\u001b[39m] \u001b[38;5;241m=\u001b[39m kwds[\u001b[38;5;124m\"\u001b[39m\u001b[38;5;124mhas_index_names\u001b[39m\u001b[38;5;124m\"\u001b[39m]\n\u001b[1;32m   1441\u001b[0m \u001b[38;5;28mself\u001b[39m\u001b[38;5;241m.\u001b[39mhandles: IOHandles \u001b[38;5;241m|\u001b[39m \u001b[38;5;28;01mNone\u001b[39;00m \u001b[38;5;241m=\u001b[39m \u001b[38;5;28;01mNone\u001b[39;00m\n\u001b[0;32m-> 1442\u001b[0m \u001b[38;5;28mself\u001b[39m\u001b[38;5;241m.\u001b[39m_engine \u001b[38;5;241m=\u001b[39m \u001b[38;5;28mself\u001b[39m\u001b[38;5;241m.\u001b[39m_make_engine(f, \u001b[38;5;28mself\u001b[39m\u001b[38;5;241m.\u001b[39mengine)\n",
      "File \u001b[0;32m~/anaconda3/lib/python3.11/site-packages/pandas/io/parsers/readers.py:1735\u001b[0m, in \u001b[0;36mTextFileReader._make_engine\u001b[0;34m(self, f, engine)\u001b[0m\n\u001b[1;32m   1733\u001b[0m     \u001b[38;5;28;01mif\u001b[39;00m \u001b[38;5;124m\"\u001b[39m\u001b[38;5;124mb\u001b[39m\u001b[38;5;124m\"\u001b[39m \u001b[38;5;129;01mnot\u001b[39;00m \u001b[38;5;129;01min\u001b[39;00m mode:\n\u001b[1;32m   1734\u001b[0m         mode \u001b[38;5;241m+\u001b[39m\u001b[38;5;241m=\u001b[39m \u001b[38;5;124m\"\u001b[39m\u001b[38;5;124mb\u001b[39m\u001b[38;5;124m\"\u001b[39m\n\u001b[0;32m-> 1735\u001b[0m \u001b[38;5;28mself\u001b[39m\u001b[38;5;241m.\u001b[39mhandles \u001b[38;5;241m=\u001b[39m get_handle(\n\u001b[1;32m   1736\u001b[0m     f,\n\u001b[1;32m   1737\u001b[0m     mode,\n\u001b[1;32m   1738\u001b[0m     encoding\u001b[38;5;241m=\u001b[39m\u001b[38;5;28mself\u001b[39m\u001b[38;5;241m.\u001b[39moptions\u001b[38;5;241m.\u001b[39mget(\u001b[38;5;124m\"\u001b[39m\u001b[38;5;124mencoding\u001b[39m\u001b[38;5;124m\"\u001b[39m, \u001b[38;5;28;01mNone\u001b[39;00m),\n\u001b[1;32m   1739\u001b[0m     compression\u001b[38;5;241m=\u001b[39m\u001b[38;5;28mself\u001b[39m\u001b[38;5;241m.\u001b[39moptions\u001b[38;5;241m.\u001b[39mget(\u001b[38;5;124m\"\u001b[39m\u001b[38;5;124mcompression\u001b[39m\u001b[38;5;124m\"\u001b[39m, \u001b[38;5;28;01mNone\u001b[39;00m),\n\u001b[1;32m   1740\u001b[0m     memory_map\u001b[38;5;241m=\u001b[39m\u001b[38;5;28mself\u001b[39m\u001b[38;5;241m.\u001b[39moptions\u001b[38;5;241m.\u001b[39mget(\u001b[38;5;124m\"\u001b[39m\u001b[38;5;124mmemory_map\u001b[39m\u001b[38;5;124m\"\u001b[39m, \u001b[38;5;28;01mFalse\u001b[39;00m),\n\u001b[1;32m   1741\u001b[0m     is_text\u001b[38;5;241m=\u001b[39mis_text,\n\u001b[1;32m   1742\u001b[0m     errors\u001b[38;5;241m=\u001b[39m\u001b[38;5;28mself\u001b[39m\u001b[38;5;241m.\u001b[39moptions\u001b[38;5;241m.\u001b[39mget(\u001b[38;5;124m\"\u001b[39m\u001b[38;5;124mencoding_errors\u001b[39m\u001b[38;5;124m\"\u001b[39m, \u001b[38;5;124m\"\u001b[39m\u001b[38;5;124mstrict\u001b[39m\u001b[38;5;124m\"\u001b[39m),\n\u001b[1;32m   1743\u001b[0m     storage_options\u001b[38;5;241m=\u001b[39m\u001b[38;5;28mself\u001b[39m\u001b[38;5;241m.\u001b[39moptions\u001b[38;5;241m.\u001b[39mget(\u001b[38;5;124m\"\u001b[39m\u001b[38;5;124mstorage_options\u001b[39m\u001b[38;5;124m\"\u001b[39m, \u001b[38;5;28;01mNone\u001b[39;00m),\n\u001b[1;32m   1744\u001b[0m )\n\u001b[1;32m   1745\u001b[0m \u001b[38;5;28;01massert\u001b[39;00m \u001b[38;5;28mself\u001b[39m\u001b[38;5;241m.\u001b[39mhandles \u001b[38;5;129;01mis\u001b[39;00m \u001b[38;5;129;01mnot\u001b[39;00m \u001b[38;5;28;01mNone\u001b[39;00m\n\u001b[1;32m   1746\u001b[0m f \u001b[38;5;241m=\u001b[39m \u001b[38;5;28mself\u001b[39m\u001b[38;5;241m.\u001b[39mhandles\u001b[38;5;241m.\u001b[39mhandle\n",
      "File \u001b[0;32m~/anaconda3/lib/python3.11/site-packages/pandas/io/common.py:768\u001b[0m, in \u001b[0;36mget_handle\u001b[0;34m(path_or_buf, mode, encoding, compression, memory_map, is_text, errors, storage_options)\u001b[0m\n\u001b[1;32m    764\u001b[0m \u001b[38;5;66;03m# BZ Compression\u001b[39;00m\n\u001b[1;32m    765\u001b[0m \u001b[38;5;28;01melif\u001b[39;00m compression \u001b[38;5;241m==\u001b[39m \u001b[38;5;124m\"\u001b[39m\u001b[38;5;124mbz2\u001b[39m\u001b[38;5;124m\"\u001b[39m:\n\u001b[1;32m    766\u001b[0m     \u001b[38;5;66;03m# No overload variant of \"BZ2File\" matches argument types\u001b[39;00m\n\u001b[1;32m    767\u001b[0m     \u001b[38;5;66;03m# \"Union[str, BaseBuffer]\", \"str\", \"Dict[str, Any]\"\u001b[39;00m\n\u001b[0;32m--> 768\u001b[0m     handle \u001b[38;5;241m=\u001b[39m bz2\u001b[38;5;241m.\u001b[39mBZ2File(  \u001b[38;5;66;03m# type: ignore[call-overload]\u001b[39;00m\n\u001b[1;32m    769\u001b[0m         handle,\n\u001b[1;32m    770\u001b[0m         mode\u001b[38;5;241m=\u001b[39mioargs\u001b[38;5;241m.\u001b[39mmode,\n\u001b[1;32m    771\u001b[0m         \u001b[38;5;241m*\u001b[39m\u001b[38;5;241m*\u001b[39mcompression_args,\n\u001b[1;32m    772\u001b[0m     )\n\u001b[1;32m    774\u001b[0m \u001b[38;5;66;03m# ZIP Compression\u001b[39;00m\n\u001b[1;32m    775\u001b[0m \u001b[38;5;28;01melif\u001b[39;00m compression \u001b[38;5;241m==\u001b[39m \u001b[38;5;124m\"\u001b[39m\u001b[38;5;124mzip\u001b[39m\u001b[38;5;124m\"\u001b[39m:\n\u001b[1;32m    776\u001b[0m     \u001b[38;5;66;03m# error: Argument 1 to \"_BytesZipFile\" has incompatible type\u001b[39;00m\n\u001b[1;32m    777\u001b[0m     \u001b[38;5;66;03m# \"Union[str, BaseBuffer]\"; expected \"Union[Union[str, PathLike[str]],\u001b[39;00m\n\u001b[1;32m    778\u001b[0m     \u001b[38;5;66;03m# ReadBuffer[bytes], WriteBuffer[bytes]]\"\u001b[39;00m\n",
      "File \u001b[0;32m~/anaconda3/lib/python3.11/bz2.py:81\u001b[0m, in \u001b[0;36mBZ2File.__init__\u001b[0;34m(self, filename, mode, compresslevel)\u001b[0m\n\u001b[1;32m     78\u001b[0m     \u001b[38;5;28;01mraise\u001b[39;00m \u001b[38;5;167;01mValueError\u001b[39;00m(\u001b[38;5;124m\"\u001b[39m\u001b[38;5;124mInvalid mode: \u001b[39m\u001b[38;5;132;01m%r\u001b[39;00m\u001b[38;5;124m\"\u001b[39m \u001b[38;5;241m%\u001b[39m (mode,))\n\u001b[1;32m     80\u001b[0m \u001b[38;5;28;01mif\u001b[39;00m \u001b[38;5;28misinstance\u001b[39m(filename, (\u001b[38;5;28mstr\u001b[39m, \u001b[38;5;28mbytes\u001b[39m, os\u001b[38;5;241m.\u001b[39mPathLike)):\n\u001b[0;32m---> 81\u001b[0m     \u001b[38;5;28mself\u001b[39m\u001b[38;5;241m.\u001b[39m_fp \u001b[38;5;241m=\u001b[39m _builtin_open(filename, mode)\n\u001b[1;32m     82\u001b[0m     \u001b[38;5;28mself\u001b[39m\u001b[38;5;241m.\u001b[39m_closefp \u001b[38;5;241m=\u001b[39m \u001b[38;5;28;01mTrue\u001b[39;00m\n\u001b[1;32m     83\u001b[0m     \u001b[38;5;28mself\u001b[39m\u001b[38;5;241m.\u001b[39m_mode \u001b[38;5;241m=\u001b[39m mode_code\n",
      "\u001b[0;31mFileNotFoundError\u001b[0m: [Errno 2] No such file or directory: 'dataverse_files/1995.csv.bz2'"
     ]
    }
   ],
   "source": [
    "import pandas as pd\n",
    "\n",
    "# Read the CSV file\n",
    "print(\"Reading Data\")\n",
    "data = pd.read_csv(\"dataverse_files/1995.csv.bz2\")\n",
    "\n",
    "# Display the first few rows\n",
    "print(data.head())"
   ]
  },
  {
   "cell_type": "code",
   "execution_count": 4,
   "id": "05204f21",
   "metadata": {},
   "outputs": [
    {
     "name": "stdout",
     "output_type": "stream",
     "text": [
      "         Year  Month  DayofMonth  DayOfWeek  DepTime  CRSDepTime  ArrTime  \\\n",
      "0        1995      1           6          5    657.0         645    952.0   \n",
      "1        1995      1           7          6    648.0         645    938.0   \n",
      "2        1995      1           8          7    649.0         645    932.0   \n",
      "3        1995      1           9          1    645.0         645    928.0   \n",
      "4        1995      1          10          2    645.0         645    931.0   \n",
      "...       ...    ...         ...        ...      ...         ...      ...   \n",
      "5327430  1995     12          12          2   2217.0        2215   2332.0   \n",
      "5327431  1995     12          13          3   2216.0        2215   2355.0   \n",
      "5327432  1995     12          14          4   2215.0        2215   2341.0   \n",
      "5327433  1995     12          15          5   2236.0        2215   2348.0   \n",
      "5327434  1995     12          17          7   2215.0        2215   2328.0   \n",
      "\n",
      "         CRSArrTime UniqueCarrier  FlightNum  ... TaxiOut  Cancelled  \\\n",
      "0               937            UA        482  ...      25          0   \n",
      "1               937            UA        482  ...      17          0   \n",
      "2               937            UA        482  ...      17          0   \n",
      "3               937            UA        482  ...      16          0   \n",
      "4               937            UA        482  ...      18          0   \n",
      "...             ...           ...        ...  ...     ...        ...   \n",
      "5327430        2332            TW        427  ...      12          0   \n",
      "5327431        2332            TW        427  ...      24          0   \n",
      "5327432        2332            TW        427  ...      16          0   \n",
      "5327433        2332            TW        427  ...      13          0   \n",
      "5327434        2332            TW        427  ...      16          0   \n",
      "\n",
      "         CancellationCode  Diverted  CarrierDelay  WeatherDelay NASDelay  \\\n",
      "0                     NaN         0           NaN           NaN      NaN   \n",
      "1                     NaN         0           NaN           NaN      NaN   \n",
      "2                     NaN         0           NaN           NaN      NaN   \n",
      "3                     NaN         0           NaN           NaN      NaN   \n",
      "4                     NaN         0           NaN           NaN      NaN   \n",
      "...                   ...       ...           ...           ...      ...   \n",
      "5327430               NaN         0           NaN           NaN      NaN   \n",
      "5327431               NaN         0           NaN           NaN      NaN   \n",
      "5327432               NaN         0           NaN           NaN      NaN   \n",
      "5327433               NaN         0           NaN           NaN      NaN   \n",
      "5327434               NaN         0           NaN           NaN      NaN   \n",
      "\n",
      "        SecurityDelay  LateAircraftDelay  TimeOfDay  \n",
      "0                 NaN                NaN    Morning  \n",
      "1                 NaN                NaN    Morning  \n",
      "2                 NaN                NaN    Morning  \n",
      "3                 NaN                NaN    Morning  \n",
      "4                 NaN                NaN    Morning  \n",
      "...               ...                ...        ...  \n",
      "5327430           NaN                NaN      Night  \n",
      "5327431           NaN                NaN      Night  \n",
      "5327432           NaN                NaN      Night  \n",
      "5327433           NaN                NaN      Night  \n",
      "5327434           NaN                NaN      Night  \n",
      "\n",
      "[5327435 rows x 30 columns]\n"
     ]
    }
   ],
   "source": [
    "# Define time categories\n",
    "time_categories = [\"Dawn\", \"Morning\", \"Afternoon\", \"Night\"]\n",
    "\n",
    "# Define the time boundaries for each category\n",
    "category_boundaries = [0, 600, 1200, 1800, 2400]\n",
    "\n",
    "# Create a function to categorize time blocks\n",
    "def categorize_time(time_value):\n",
    "    category = pd.cut(time_value, bins=category_boundaries, labels=time_categories, right=False)\n",
    "    return category\n",
    "\n",
    "# Apply the categorize_time function to each time value\n",
    "data['TimeOfDay'] = categorize_time(data['CRSDepTime'])\n",
    "\n",
    "# Show the updated DataFrame\n",
    "print(data)"
   ]
  },
  {
   "cell_type": "code",
   "execution_count": 5,
   "id": "8d0e839b",
   "metadata": {},
   "outputs": [
    {
     "name": "stdout",
     "output_type": "stream",
     "text": [
      "    Year  DayOfWeek  TimeOfDay   AvgDelay\n",
      "0   1995          1       Dawn   8.526848\n",
      "1   1995          1    Morning   3.433564\n",
      "2   1995          1  Afternoon   6.633505\n",
      "3   1995          1      Night   8.604184\n",
      "4   1995          2       Dawn   7.746480\n",
      "5   1995          2    Morning   3.747717\n",
      "6   1995          2  Afternoon   7.398814\n",
      "7   1995          2      Night   9.018432\n",
      "8   1995          3       Dawn  11.416088\n",
      "9   1995          3    Morning   4.433307\n",
      "10  1995          3  Afternoon   9.018427\n",
      "11  1995          3      Night  12.393320\n",
      "12  1995          4       Dawn  11.621169\n",
      "13  1995          4    Morning   4.723414\n",
      "14  1995          4  Afternoon   9.275546\n",
      "15  1995          4      Night  13.147471\n",
      "16  1995          5       Dawn   9.863152\n",
      "17  1995          5    Morning   4.240612\n",
      "18  1995          5  Afternoon  10.136792\n",
      "19  1995          5      Night  14.515711\n",
      "20  1995          6       Dawn   9.666049\n",
      "21  1995          6    Morning   3.904332\n",
      "22  1995          6  Afternoon   6.371554\n",
      "23  1995          6      Night   5.493796\n",
      "24  1995          7       Dawn   6.315574\n",
      "25  1995          7    Morning   1.333002\n",
      "26  1995          7  Afternoon   7.084172\n",
      "27  1995          7      Night  10.866817\n"
     ]
    }
   ],
   "source": [
    "# Grouping by 'Year', 'DayOfWeek', and 'TimeOfDay', then calculating the average of 'ArrDelay'\n",
    "grouped_data = data.groupby(['Year', 'DayOfWeek', 'TimeOfDay']).agg({'ArrDelay': 'mean'})\n",
    "\n",
    "# Renaming the aggregated column to 'AvgDelay'\n",
    "grouped_data.rename(columns={'ArrDelay': 'AvgDelay'}, inplace=True)\n",
    "\n",
    "# Resetting index to make the grouped columns regular columns\n",
    "grouped_data.reset_index(inplace=True)\n",
    "\n",
    "# Displaying the resulting DataFrame\n",
    "print(grouped_data)"
   ]
  },
  {
   "cell_type": "code",
   "execution_count": 6,
   "id": "24f45639",
   "metadata": {},
   "outputs": [
    {
     "name": "stdout",
     "output_type": "stream",
     "text": [
      "    Year  DayOfWeek  TimeOfDay   AvgDelay\n",
      "25  1995          7    Morning   1.333002\n",
      "1   1995          1    Morning   3.433564\n",
      "5   1995          2    Morning   3.747717\n",
      "21  1995          6    Morning   3.904332\n",
      "17  1995          5    Morning   4.240612\n",
      "9   1995          3    Morning   4.433307\n",
      "13  1995          4    Morning   4.723414\n",
      "23  1995          6      Night   5.493796\n",
      "24  1995          7       Dawn   6.315574\n",
      "22  1995          6  Afternoon   6.371554\n",
      "2   1995          1  Afternoon   6.633505\n",
      "26  1995          7  Afternoon   7.084172\n",
      "6   1995          2  Afternoon   7.398814\n",
      "4   1995          2       Dawn   7.746480\n",
      "0   1995          1       Dawn   8.526848\n",
      "3   1995          1      Night   8.604184\n",
      "10  1995          3  Afternoon   9.018427\n",
      "7   1995          2      Night   9.018432\n",
      "14  1995          4  Afternoon   9.275546\n",
      "20  1995          6       Dawn   9.666049\n",
      "16  1995          5       Dawn   9.863152\n",
      "18  1995          5  Afternoon  10.136792\n",
      "27  1995          7      Night  10.866817\n",
      "8   1995          3       Dawn  11.416088\n",
      "12  1995          4       Dawn  11.621169\n",
      "11  1995          3      Night  12.393320\n",
      "15  1995          4      Night  13.147471\n",
      "19  1995          5      Night  14.515711\n"
     ]
    }
   ],
   "source": [
    "# Sorting the grouped data by 'AvgDelay' column in ascending order\n",
    "sorted_data = grouped_data.sort_values(by='AvgDelay')\n",
    "\n",
    "# Displaying the sorted DataFrame\n",
    "print(sorted_data)"
   ]
  },
  {
   "cell_type": "code",
   "execution_count": 2,
   "id": "358bf47c",
   "metadata": {},
   "outputs": [
    {
     "name": "stdout",
     "output_type": "stream",
     "text": [
      "Look for minimum delays\n"
     ]
    },
    {
     "ename": "NameError",
     "evalue": "name 'sorted_data' is not defined",
     "output_type": "error",
     "traceback": [
      "\u001b[0;31m---------------------------------------------------------------------------\u001b[0m",
      "\u001b[0;31mNameError\u001b[0m                                 Traceback (most recent call last)",
      "Cell \u001b[0;32mIn[2], line 2\u001b[0m\n\u001b[1;32m      1\u001b[0m \u001b[38;5;28mprint\u001b[39m(\u001b[38;5;124m\"\u001b[39m\u001b[38;5;124mLook for minimum delays\u001b[39m\u001b[38;5;124m\"\u001b[39m)\n\u001b[0;32m----> 2\u001b[0m min_delays \u001b[38;5;241m=\u001b[39m sorted_data\u001b[38;5;241m.\u001b[39mgroupby([\u001b[38;5;124m'\u001b[39m\u001b[38;5;124mYear\u001b[39m\u001b[38;5;124m'\u001b[39m, \u001b[38;5;124m'\u001b[39m\u001b[38;5;124mDayOfWeek\u001b[39m\u001b[38;5;124m'\u001b[39m, \u001b[38;5;124m'\u001b[39m\u001b[38;5;124mTimeOfDay\u001b[39m\u001b[38;5;124m'\u001b[39m])\u001b[38;5;241m.\u001b[39mfilter(\u001b[38;5;28;01mlambda\u001b[39;00m x: (x[\u001b[38;5;124m'\u001b[39m\u001b[38;5;124mAvgDelay\u001b[39m\u001b[38;5;124m'\u001b[39m] \u001b[38;5;241m>\u001b[39m \u001b[38;5;241m0\u001b[39m)\u001b[38;5;241m.\u001b[39many())\n\u001b[1;32m      3\u001b[0m \u001b[38;5;28;01mreturn\u001b[39;00m min_delays\u001b[38;5;241m.\u001b[39miloc[\u001b[38;5;241m0\u001b[39m]\n",
      "\u001b[0;31mNameError\u001b[0m: name 'sorted_data' is not defined"
     ]
    }
   ],
   "source": [
    "print(\"Look for minimum delays\")\n",
    "min_delays = sorted_data.groupby(['Year', 'DayOfWeek', 'TimeOfDay']).filter(lambda x: (x['AvgDelay'] > 0).any())\n",
    "return min_delays.iloc[0]"
   ]
  },
  {
   "cell_type": "code",
   "execution_count": null,
   "id": "3147cfd0",
   "metadata": {},
   "outputs": [],
   "source": [
    "min_delay_by_year = pd.DataFrame()\n",
    "\n",
    "for i in range(len(files)):\n",
    "    min_delay = get_min_delay(files[i], i)\n",
    "    min_delay_by_year = min_delay_by_year.append(min_delay, ignore_index=True)\n"
   ]
  },
  {
   "cell_type": "code",
   "execution_count": null,
   "id": "644de33b",
   "metadata": {},
   "outputs": [],
   "source": [
    "print(min_delay_by_year)\n"
   ]
  }
 ],
 "metadata": {
  "kernelspec": {
   "display_name": "Python 3 (ipykernel)",
   "language": "python",
   "name": "python3"
  },
  "language_info": {
   "codemirror_mode": {
    "name": "ipython",
    "version": 3
   },
   "file_extension": ".py",
   "mimetype": "text/x-python",
   "name": "python",
   "nbconvert_exporter": "python",
   "pygments_lexer": "ipython3",
   "version": "3.11.4"
  }
 },
 "nbformat": 4,
 "nbformat_minor": 5
}
